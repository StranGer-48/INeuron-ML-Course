{
  "nbformat": 4,
  "nbformat_minor": 0,
  "metadata": {
    "colab": {
      "name": "stats_assignment_1.ipynb",
      "provenance": [],
      "collapsed_sections": [],
      "authorship_tag": "ABX9TyMlY5+ZL6uYGuzXuP/BgL71",
      "include_colab_link": true
    },
    "kernelspec": {
      "name": "python3",
      "display_name": "Python 3"
    }
  },
  "cells": [
    {
      "cell_type": "markdown",
      "metadata": {
        "id": "view-in-github",
        "colab_type": "text"
      },
      "source": [
        "<a href=\"https://colab.research.google.com/github/StranGer-48/INeuron-ML-Course/blob/main/Assignments/stats_assignments/stats_assignment_1.ipynb\" target=\"_parent\"><img src=\"https://colab.research.google.com/assets/colab-badge.svg\" alt=\"Open In Colab\"/></a>"
      ]
    },
    {
      "cell_type": "code",
      "metadata": {
        "id": "5qf86IDfcBBV"
      },
      "source": [
        "import numpy as np\n",
        "from scipy import stats"
      ],
      "execution_count": null,
      "outputs": []
    },
    {
      "cell_type": "markdown",
      "metadata": {
        "id": "5dekZLTPbstN"
      },
      "source": [
        "#Problem Statement 1:\n",
        "The marks awarded for an assignment set for a Year 8 class of 20 students were as\n",
        "follows:\n",
        "6 7 5 7 7 8 7 6 9 7 4 10 6 8 8 9 5 6 4 8\n",
        "\n"
      ]
    },
    {
      "cell_type": "code",
      "metadata": {
        "id": "mEPkaXQQbmmf"
      },
      "source": [
        "A = [6,7,5,7,7,8,7,6,9,7,4,10,6,8,8,9,5,6,4,8]"
      ],
      "execution_count": null,
      "outputs": []
    },
    {
      "cell_type": "code",
      "metadata": {
        "id": "EkJGgIUxb6ja"
      },
      "source": [
        "mean_1 = np.mean(A)\n",
        "median_1 = np.median(A)\n",
        "mode_1 = stats.mode(A)\n",
        "std_1 = np.std(A)"
      ],
      "execution_count": null,
      "outputs": []
    },
    {
      "cell_type": "code",
      "metadata": {
        "colab": {
          "base_uri": "https://localhost:8080/"
        },
        "id": "OBS072Rkb7Ty",
        "outputId": "891febee-9543-4a1f-8bab-31b70b157499"
      },
      "source": [
        "print('mean is', mean_1)\n",
        "print('median is', median_1)\n",
        "print('mode is', mode_1)\n",
        "print('standard deviation is', std_1)"
      ],
      "execution_count": null,
      "outputs": [
        {
          "output_type": "stream",
          "text": [
            "mean is 6.85\n",
            "median is 7.0\n",
            "mode is ModeResult(mode=array([7]), count=array([5]))\n",
            "standard deviation is 1.5898113095584647\n"
          ],
          "name": "stdout"
        }
      ]
    },
    {
      "cell_type": "markdown",
      "metadata": {
        "id": "-PaqpAIYdGuP"
      },
      "source": [
        "# Problem Statement 2\n",
        "The number of calls from motorists per day for roadside service was recorded for a\n",
        "particular month:\n",
        "28, 122, 217, 130, 120, 86, 80, 90, 140, 120, 70, 40, 145, 113, 90, 68, 174, 194, 170,\n",
        "100, 75, 104, 97, 75,\n",
        "123, 100, 75, 104, 97, 75, 123, 100, 89, 120, 109\n"
      ]
    },
    {
      "cell_type": "code",
      "metadata": {
        "id": "YxoMruXic9ih"
      },
      "source": [
        "B = [28, 122, 217, 130, 120, 86, 80, 90, 140, 120, 70, 40, 145, 113, 90, 68, 174, 194, 170, 100, 75, 104, 97, 75, 123, 100, 75, 104, 97, 75, 123, 100, 89, 120, 109]"
      ],
      "execution_count": null,
      "outputs": []
    },
    {
      "cell_type": "code",
      "metadata": {
        "id": "TwnI9OcxdUbO"
      },
      "source": [
        "mean_2 = np.mean(B)\n",
        "median_2 = np.median(B)\n",
        "mode_2 = stats.mode(B)\n",
        "std_2 = np.std(B)"
      ],
      "execution_count": null,
      "outputs": []
    },
    {
      "cell_type": "code",
      "metadata": {
        "colab": {
          "base_uri": "https://localhost:8080/"
        },
        "id": "UoSm1Ir_dhL_",
        "outputId": "8add2ade-41e2-4b94-b58d-e5b4b7719694"
      },
      "source": [
        "print('mean is', mean_2)\n",
        "print('median is', median_2)\n",
        "print('mode is', mode_2)\n",
        "print('standard deviation is', std_2)"
      ],
      "execution_count": null,
      "outputs": [
        {
          "output_type": "stream",
          "text": [
            "mean is 107.51428571428572\n",
            "median is 100.0\n",
            "mode is ModeResult(mode=array([75]), count=array([4]))\n",
            "standard deviation is 38.77287080168403\n"
          ],
          "name": "stdout"
        }
      ]
    },
    {
      "cell_type": "markdown",
      "metadata": {
        "id": "IQX5_EyUeoNW"
      },
      "source": [
        "# Problem Statement 3\n",
        "The number of times I go to the gym in weekdays, are given below along with its\n",
        "associated probability:\n",
        "x = 0, 1, 2, 3, 4, 5\n",
        "f(x) = 0.09, 0.15, 0.40, 0.25, 0.10, 0.01\n",
        "Calculate the mean no. of workouts in a week. Also evaluate the variance involved in\n",
        "it."
      ]
    },
    {
      "cell_type": "code",
      "metadata": {
        "id": "adUY7461dodd"
      },
      "source": [
        "x = [0,1,2,3,4,5]\n",
        "probabilities = [0.09, 0.15, 0.40, 0.25, 0.10, 0.01]"
      ],
      "execution_count": null,
      "outputs": []
    },
    {
      "cell_type": "code",
      "metadata": {
        "colab": {
          "base_uri": "https://localhost:8080/"
        },
        "id": "_3XHSAnGe2qn",
        "outputId": "16233dcc-5244-4d96-d776-9cf207b9d57f"
      },
      "source": [
        "mue = []\n",
        "for x_val, prob_val in zip(x,probabilities):\n",
        "  mue.append(x_val*prob_val)\n",
        "mue_val = sum(mue)\n",
        "print(\"mue value is \", mue_val)"
      ],
      "execution_count": null,
      "outputs": [
        {
          "output_type": "stream",
          "text": [
            "mue value is  2.15\n"
          ],
          "name": "stdout"
        }
      ]
    },
    {
      "cell_type": "code",
      "metadata": {
        "colab": {
          "base_uri": "https://localhost:8080/"
        },
        "id": "YwaRt0rYgESe",
        "outputId": "b28454da-2179-4117-9d71-b8d93d8bccef"
      },
      "source": [
        "vari = []\n",
        "for x_val, prob_val in zip(x, probabilities):\n",
        "  vari.append((x_val**2)*prob_val)\n",
        "\n",
        "variance = sum(vari) - mue_val**2\n",
        "print(\"variance is \",variance)"
      ],
      "execution_count": null,
      "outputs": [
        {
          "output_type": "stream",
          "text": [
            "variance is  1.2275\n"
          ],
          "name": "stdout"
        }
      ]
    },
    {
      "cell_type": "markdown",
      "metadata": {
        "id": "E-nLvYRKNV1M"
      },
      "source": [
        "#Problem Statement 4\n",
        "\n",
        "Let the continuous random variable D denote the diameter of the hole drilled in an \n",
        "aluminum sheet. The target diameter to be achieved is 12.5mm. Random \n",
        "disturbances in the process often result in inaccuracy.\n",
        "Historical data shows that the distribution of D can be modelled by the PDF (𝑑) = \n",
        "20𝑒−20(𝑑−12.5), 𝑑 ≥ 12.5. If a part with diameter > 12.6 mm needs to be scrapped, \n",
        "what is the proportion of those parts? What is the CDF when the diameter is of 11 \n",
        "mm? What is your conclusion regarding the proportion of scraps?\n"
      ]
    },
    {
      "cell_type": "code",
      "metadata": {
        "id": "U2cu1rKYNZKg"
      },
      "source": [
        "def integrand(d):\n",
        "  return 20 * np.exp(-20*(d - 12.5))"
      ],
      "execution_count": null,
      "outputs": []
    },
    {
      "cell_type": "code",
      "metadata": {
        "id": "vk_StVPQKnUV"
      },
      "source": [
        "from scipy.integrate import quad"
      ],
      "execution_count": null,
      "outputs": []
    },
    {
      "cell_type": "code",
      "metadata": {
        "id": "33A2CoHDKuiX"
      },
      "source": [
        "result = quad(integrand, 12.6, np.inf)"
      ],
      "execution_count": null,
      "outputs": []
    },
    {
      "cell_type": "code",
      "metadata": {
        "colab": {
          "base_uri": "https://localhost:8080/"
        },
        "id": "ZZSH_pyEmo3z",
        "outputId": "f9a679c8-9f98-4a9b-af29-3b6c20c8b2bf"
      },
      "source": [
        "print(\"The proportion of the part with diameter greater than 12.6mm is \",result[0] - result[1])"
      ],
      "execution_count": null,
      "outputs": [
        {
          "output_type": "stream",
          "text": [
            "The proportion of the part with diameter greater than 12.6mm is  0.13533528181697324\n"
          ],
          "name": "stdout"
        }
      ]
    },
    {
      "cell_type": "code",
      "metadata": {
        "id": "PEkPVwpJm9V8"
      },
      "source": [
        "result2 = quad(integrand, 12.5, 11)"
      ],
      "execution_count": null,
      "outputs": []
    },
    {
      "cell_type": "code",
      "metadata": {
        "colab": {
          "base_uri": "https://localhost:8080/"
        },
        "id": "V-e3XKysEqJN",
        "outputId": "ec39f62c-7f18-407c-964b-20550bd09839"
      },
      "source": [
        "result2[0] - result2[1]"
      ],
      "execution_count": null,
      "outputs": [
        {
          "output_type": "execute_result",
          "data": {
            "text/plain": [
              "-10686474585502.227"
            ]
          },
          "metadata": {
            "tags": []
          },
          "execution_count": 16
        }
      ]
    },
    {
      "cell_type": "markdown",
      "metadata": {
        "id": "_Ia8YiglFwRI"
      },
      "source": [
        "We can conclude from the above result that the CDF for the diameter 11 mm is less than zero i.e., the diameters which are less than 12.5 will we considered as zero."
      ]
    },
    {
      "cell_type": "markdown",
      "metadata": {
        "id": "zWF5ewbRNjKp"
      },
      "source": [
        "# Problem Statement 5\n",
        "\n",
        "A company manufactures LED bulbs with a faulty rate of 30%. If I randomly select 6 \n",
        "chosen LEDs, what is the probability of having 2 faulty LEDs in my sample? \n",
        "Calculate the average value of this process. Also evaluate the standard deviation \n",
        "associated with it.\n"
      ]
    },
    {
      "cell_type": "code",
      "metadata": {
        "colab": {
          "base_uri": "https://localhost:8080/"
        },
        "id": "JpV0n0VMRZRR",
        "outputId": "abf23aab-a5a6-402e-96f3-630746edc7db"
      },
      "source": [
        "from math import sqrt\n",
        "from scipy.stats import binom\n",
        "prob_two_faulty = binom.pmf(k=2, n=6, p=0.3)\n",
        "print(\"probability of having two faulty LEDs in a sample is \", prob_two_faulty)\n",
        "p = 0.3\n",
        "n = 6\n",
        "mean = n * p\n",
        "std = sqrt(n * p * (1-p))\n",
        "\n",
        "print(\"the average values of this process is \", mean)\n",
        "print(\"the standard deviation associated with it is \", std)"
      ],
      "execution_count": null,
      "outputs": [
        {
          "output_type": "stream",
          "text": [
            "probability of having two faulty LEDs in a sample is  0.32413499999999995\n",
            "the average values of this process is  1.7999999999999998\n",
            "the standard deviation associated with it is  1.1224972160321822\n"
          ],
          "name": "stdout"
        }
      ]
    },
    {
      "cell_type": "markdown",
      "metadata": {
        "id": "042xVv1INouB"
      },
      "source": [
        "# Problem Statement 6\n",
        "\n",
        "Gaurav and Barakha are both preparing for entrance exams. Gaurav attempts to \n",
        "solve 8 questions per day with a correction rate of 75%, while Barakha averages \n",
        "around 12 questions per day with a correction rate of 45%. What is the probability \n",
        "that each of them will solve 5 questions correctly? What happens in cases of 4 and 6 \n",
        "correct solutions? What do you infer from it? What are the two main governing \n",
        "factors affecting their ability to solve questions correctly? Give a pictorial \n",
        "representation of the same to validate your answer."
      ]
    },
    {
      "cell_type": "code",
      "metadata": {
        "id": "YK_A5bSBNtwg"
      },
      "source": [
        "x1, x2 = 8, 12\n",
        "r1, r2 = 0.75, 0.45"
      ],
      "execution_count": null,
      "outputs": []
    },
    {
      "cell_type": "markdown",
      "metadata": {
        "id": "0jdzcG1hNuH0"
      },
      "source": [
        "# Problem Statement 7\n",
        "\n",
        "Customers arrive at a rate of 72 per hour to my shop. What is the probability of 𝑘\n",
        "customers arriving in 4 minutes? a) 5 customers, b) not more than 3 customers, c) \n",
        "more than 3 customers. Give a pictorial representation of the same to validate your \n",
        "answer.\n"
      ]
    },
    {
      "cell_type": "code",
      "metadata": {
        "id": "bEYClltSNybB"
      },
      "source": [
        ""
      ],
      "execution_count": null,
      "outputs": []
    },
    {
      "cell_type": "markdown",
      "metadata": {
        "id": "Quk3zOOcNy7m"
      },
      "source": [
        "# Problem Statement 8\n",
        "\n",
        "I work as a data analyst in Aeon Learning Pvt. Ltd. After analyzing data, I make \n",
        "reports, where I have the efficiency of entering 77 words per minute with 6 errors per \n",
        "hour. What is the probability that I will commit 2 errors in a 455-word financial report?\n",
        "What happens when the no. of words increases/decreases (in case of 1000 words, \n",
        "255 words)? \n",
        "\n",
        "How is the 𝜆 affected?\n",
        "\n",
        "How does it influence the PMF? \n",
        "\n",
        "Give a pictorial representation of the same to validate your answer"
      ]
    },
    {
      "cell_type": "code",
      "metadata": {
        "id": "WR2M8i7oN3F6"
      },
      "source": [
        ""
      ],
      "execution_count": null,
      "outputs": []
    },
    {
      "cell_type": "markdown",
      "metadata": {
        "id": "i8JqdoVRN7vK"
      },
      "source": [
        "# Problem Statement 9\n",
        "\n",
        "Let the continuous random variable D denote the diameter of the hole drilled in an \n",
        "aluminum sheet. The target diameter to be achieved is 12.5mm. Random \n",
        "disturbances in the process often result in inaccuracy.\n",
        "Historical data shows that the distribution of D can be modelled by the PDF, f(d) = \n",
        "20e−20(d−12.5), d ≥ 12.5. If a part with diameter > 12.6 mm needs to be scrapped, \n",
        "what is the proportion of those parts? What is the CDF when the diameter is of 11 \n",
        "mm?\n",
        "\n",
        "What is the conclusion of this experiment?"
      ]
    },
    {
      "cell_type": "code",
      "metadata": {
        "id": "mUq-3j-5OArU"
      },
      "source": [
        ""
      ],
      "execution_count": null,
      "outputs": []
    },
    {
      "cell_type": "markdown",
      "metadata": {
        "id": "1zDr8ZAqOBNk"
      },
      "source": [
        "# Problem Statement 10\n",
        "\n",
        "Please compute the following:  \n",
        "a) P(Z > 1.26), . P(Z < −0.86), P(Z > −1.37), P(−1.25 < Z < 0.37), . P(Z ≤ −4.6)  \n",
        "b) Find the value 𝑧 such that 𝑃(𝑍 > 𝑧) = 0.05  \n",
        "c) Find the value of 𝑧 such that 𝑃(−𝑧 < 𝑍 < 𝑧) = 0.99"
      ]
    },
    {
      "cell_type": "code",
      "metadata": {
        "id": "y_cpsFv4OQo-",
        "colab": {
          "base_uri": "https://localhost:8080/"
        },
        "outputId": "8f475964-03a4-437f-f4c7-4475548fb795"
      },
      "source": [
        "1 - stats.norm.cdf(1.26)"
      ],
      "execution_count": null,
      "outputs": [
        {
          "output_type": "execute_result",
          "data": {
            "text/plain": [
              "0.10383468112130045"
            ]
          },
          "metadata": {
            "tags": []
          },
          "execution_count": 18
        }
      ]
    },
    {
      "cell_type": "code",
      "metadata": {
        "colab": {
          "base_uri": "https://localhost:8080/"
        },
        "id": "-W4Xw5U5nnZ3",
        "outputId": "771550ea-86c3-4972-bf39-9f012943efe0"
      },
      "source": [
        "stats.norm.cdf(-0.86)"
      ],
      "execution_count": null,
      "outputs": [
        {
          "output_type": "execute_result",
          "data": {
            "text/plain": [
              "0.1948945212518084"
            ]
          },
          "metadata": {
            "tags": []
          },
          "execution_count": 17
        }
      ]
    },
    {
      "cell_type": "code",
      "metadata": {
        "colab": {
          "base_uri": "https://localhost:8080/"
        },
        "id": "HeKmMnFTnn9z",
        "outputId": "1e57bf55-6e33-4a90-fb21-3fdb3ac952db"
      },
      "source": [
        "1 - stats.norm.cdf(-1.37)"
      ],
      "execution_count": null,
      "outputs": [
        {
          "output_type": "execute_result",
          "data": {
            "text/plain": [
              "0.914656549178033"
            ]
          },
          "metadata": {
            "tags": []
          },
          "execution_count": 19
        }
      ]
    },
    {
      "cell_type": "code",
      "metadata": {
        "colab": {
          "base_uri": "https://localhost:8080/"
        },
        "id": "d1nSryCgnoPS",
        "outputId": "4ea590cf-a666-491e-f452-c1a4fb971695"
      },
      "source": [
        "stats.norm.cdf(0.37) - stats.norm.cdf(-1.25)"
      ],
      "execution_count": null,
      "outputs": [
        {
          "output_type": "execute_result",
          "data": {
            "text/plain": [
              "0.5386589811336914"
            ]
          },
          "metadata": {
            "tags": []
          },
          "execution_count": 20
        }
      ]
    },
    {
      "cell_type": "code",
      "metadata": {
        "colab": {
          "base_uri": "https://localhost:8080/"
        },
        "id": "Gxpx2Ys1noch",
        "outputId": "40092bf3-269f-4190-e1ff-52c497b9c1af"
      },
      "source": [
        "stats.norm.cdf(-4.6)"
      ],
      "execution_count": null,
      "outputs": [
        {
          "output_type": "execute_result",
          "data": {
            "text/plain": [
              "2.1124547025028537e-06"
            ]
          },
          "metadata": {
            "tags": []
          },
          "execution_count": 21
        }
      ]
    },
    {
      "cell_type": "code",
      "metadata": {
        "colab": {
          "base_uri": "https://localhost:8080/"
        },
        "id": "Y_OnSwyIpXan",
        "outputId": "75edb449-41d5-443a-b45d-972f0ceb09d5"
      },
      "source": [
        "stats.norm.ppf(0.05)"
      ],
      "execution_count": null,
      "outputs": [
        {
          "output_type": "execute_result",
          "data": {
            "text/plain": [
              "-1.6448536269514729"
            ]
          },
          "metadata": {
            "tags": []
          },
          "execution_count": 24
        }
      ]
    },
    {
      "cell_type": "code",
      "metadata": {
        "colab": {
          "base_uri": "https://localhost:8080/"
        },
        "id": "pV5FloZRp5l2",
        "outputId": "096894e9-2b38-484e-e85d-259ccc4626b8"
      },
      "source": [
        "stats.norm.ppf((1 - 0.99)/2)"
      ],
      "execution_count": null,
      "outputs": [
        {
          "output_type": "execute_result",
          "data": {
            "text/plain": [
              "-2.5758293035489004"
            ]
          },
          "metadata": {
            "tags": []
          },
          "execution_count": 44
        }
      ]
    },
    {
      "cell_type": "markdown",
      "metadata": {
        "id": "UIuNu0BFOUGC"
      },
      "source": [
        "# Problem Statement 11\n",
        "\n",
        "The current flow in a copper wire follow a normal distribution with a mean of 10 𝑚A \n",
        "and a variance of 4 (𝑚𝐴)2. \n",
        "What is the probability that a current measurement will exceed 13 𝑚𝐴?   \n",
        "  What is the probability that a current measurement is between 9 and 11mA? Determine the \n",
        "current measurement which has a probability of 0.98.\n"
      ]
    },
    {
      "cell_type": "code",
      "metadata": {
        "id": "EhqMVqK3OYLe",
        "colab": {
          "base_uri": "https://localhost:8080/"
        },
        "outputId": "b5b1f746-309d-45e1-9da7-d2f17028d29f"
      },
      "source": [
        "mean = 10\n",
        "variance = 4\n",
        "probability = stats.norm.cdf(13,mean, variance)\n",
        "print(probability)"
      ],
      "execution_count": null,
      "outputs": [
        {
          "output_type": "stream",
          "text": [
            "0.7733726476231317\n"
          ],
          "name": "stdout"
        }
      ]
    },
    {
      "cell_type": "code",
      "metadata": {
        "colab": {
          "base_uri": "https://localhost:8080/"
        },
        "id": "3PF9dns5rSqd",
        "outputId": "30a6def8-43de-4068-ce0f-4ab92b23337a"
      },
      "source": [
        "print(\"The probabilty that a current is between 9 and 11 mA is \", stats.norm.cdf(9) - stats.norm.cdf(11))"
      ],
      "execution_count": null,
      "outputs": [
        {
          "output_type": "stream",
          "text": [
            "The probabilty that a current is between 9 and 11 mA is  0.0\n"
          ],
          "name": "stdout"
        }
      ]
    },
    {
      "cell_type": "code",
      "metadata": {
        "colab": {
          "base_uri": "https://localhost:8080/"
        },
        "id": "CBee7p_QrpQC",
        "outputId": "680f03a0-cc1f-48f7-f7da-23cd662b050b"
      },
      "source": [
        "print(\"current measurement whihc has a probability of 0.98 is \",stats.norm.ppf(0.98))"
      ],
      "execution_count": null,
      "outputs": [
        {
          "output_type": "stream",
          "text": [
            "current measurement whihc has a probability of 0.98 is  2.0537489106318225\n"
          ],
          "name": "stdout"
        }
      ]
    },
    {
      "cell_type": "markdown",
      "metadata": {
        "id": "MfqG95iwOfYB"
      },
      "source": [
        "# Problem Statement 12\n",
        "\n",
        "The shaft in a piston has its diameter normally distributed with a mean of 0.2508 inch \n",
        "and a standard deviation of 0.0005 inch. The specifications of the shaft are 0.2500 ∓\n",
        "0.0015 inch. What proportion of shafts are in sync with the specifications? If the \n",
        "process is centered so that the mean is equal to the target value of 0.2500, what \n",
        "proportion of shafts conform to the new specifications? What is your conclusion from \n",
        "this experiment?\n"
      ]
    },
    {
      "cell_type": "code",
      "metadata": {
        "id": "UkHU1RWuOk0V"
      },
      "source": [
        "mean = 0.2508\n",
        "std = 0.0005\n",
        "max = 0.2500 + 0.0015\n",
        "min = 0.2500 - 0.0015\n",
        "target_mean = 0.2500"
      ],
      "execution_count": null,
      "outputs": []
    },
    {
      "cell_type": "code",
      "metadata": {
        "colab": {
          "base_uri": "https://localhost:8080/"
        },
        "id": "Iscf3E3-aElv",
        "outputId": "554eec8b-655b-420f-920a-08bc72d69c4f"
      },
      "source": [
        "spec = stats.norm.cdf(max, mean, std) - stats.norm.cdf(min, mean, std)\n",
        "print(spec)"
      ],
      "execution_count": null,
      "outputs": [
        {
          "output_type": "stream",
          "text": [
            "0.91924122831152\n"
          ],
          "name": "stdout"
        }
      ]
    },
    {
      "cell_type": "code",
      "metadata": {
        "id": "tTuUwar3aaaZ"
      },
      "source": [
        "spec2 = stats.norm.cdf(max, target_mean, std) - stats.norm.cdf(min, target_mean, std)"
      ],
      "execution_count": null,
      "outputs": []
    },
    {
      "cell_type": "code",
      "metadata": {
        "colab": {
          "base_uri": "https://localhost:8080/"
        },
        "id": "bV5G63DlbV4Y",
        "outputId": "ccdd5197-8f95-429f-c807-2da0bc7fb042"
      },
      "source": [
        "print(spec2)"
      ],
      "execution_count": null,
      "outputs": [
        {
          "output_type": "stream",
          "text": [
            "0.9973002039367398\n"
          ],
          "name": "stdout"
        }
      ]
    },
    {
      "cell_type": "markdown",
      "metadata": {
        "id": "Q2V6O0lid-CX"
      },
      "source": [
        "\n",
        "It would be increased from 92% to 99.7%"
      ]
    },
    {
      "cell_type": "code",
      "metadata": {
        "id": "CVRC6O_reThh"
      },
      "source": [
        ""
      ],
      "execution_count": null,
      "outputs": []
    }
  ]
}